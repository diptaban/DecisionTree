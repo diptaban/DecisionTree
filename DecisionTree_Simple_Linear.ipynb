{
  "nbformat": 4,
  "nbformat_minor": 0,
  "metadata": {
    "colab": {
      "provenance": [],
      "authorship_tag": "ABX9TyOp1/PUqTxJCgKRp9rbNPGU",
      "include_colab_link": true
    },
    "kernelspec": {
      "name": "python3",
      "display_name": "Python 3"
    },
    "language_info": {
      "name": "python"
    }
  },
  "cells": [
    {
      "cell_type": "markdown",
      "metadata": {
        "id": "view-in-github",
        "colab_type": "text"
      },
      "source": [
        "<a href=\"https://colab.research.google.com/github/diptaban/DecisionTree/blob/main/DecisionTree_Simple_Linear.ipynb\" target=\"_parent\"><img src=\"https://colab.research.google.com/assets/colab-badge.svg\" alt=\"Open In Colab\"/></a>"
      ]
    },
    {
      "cell_type": "code",
      "execution_count": 20,
      "metadata": {
        "colab": {
          "base_uri": "https://localhost:8080/",
          "height": 317
        },
        "id": "xvxF0fvoh0d7",
        "outputId": "94e3fa58-5ca8-4944-8ab4-27414b74ef8f"
      },
      "outputs": [
        {
          "output_type": "stream",
          "name": "stdout",
          "text": [
            "4\n",
            "4.5\n"
          ]
        },
        {
          "output_type": "execute_result",
          "data": {
            "text/plain": [
              "[<matplotlib.lines.Line2D at 0x7f0c3dd4d950>]"
            ]
          },
          "metadata": {},
          "execution_count": 20
        },
        {
          "output_type": "display_data",
          "data": {
            "text/plain": [
              "<Figure size 432x288 with 1 Axes>"
            ],
            "image/png": "[encoded data removed]"
          },
          "metadata": {
            "needs_background": "light"
          }
        }
      ],
      "source": [
        "import numpy as np\n",
        "from numpy import *\n",
        "def H(p,n):\n",
        "  h = 0\n",
        "  \n",
        "  if (p!=0 & n != 0):\n",
        "    p1 = p/(p+n)\n",
        "    n1= n/(p+n)\n",
        "    h = -(p1*np.log2(p1) + n1*np.log2(n1))\n",
        "  elif (p== 0 & n != 0):\n",
        "    n1= n/(p+n)\n",
        "    h = - n1*np.log2(n1)\n",
        "  elif (p!= 0 & n == 0):\n",
        "    p1 = p/(p+n)\n",
        "    h = -p1*np.log2(p1)\n",
        "  return h\n",
        "  \n",
        "from sklearn.datasets import make_blobs\n",
        "X, Y = make_blobs(n_samples=100, centers=2, n_features=2,\\\n",
        "random_state=20)\n",
        "#X = np.array([[1,1],[2,1.5],[3,1],[4,0.7]])\n",
        "#Y= np.array([1,1,0,0])\n",
        "import matplotlib.pyplot as plt\n",
        "plt.scatter(X[:,0],X[:,1],c=Y,s=100)\n",
        "total = 4\n",
        "p=2\n",
        "n=2\n",
        "\n",
        "E_root = H(2,2)\n",
        "#print(E_root)\n",
        "P_X = np.squeeze(X[np.where(Y==1),:])\n",
        "N_X = np.squeeze(X[np.where(Y==0),:])\n",
        "\n",
        "#print(P_X)\n",
        "LP = P_X.shape[0]\n",
        "LN = N_X.shape[0]\n",
        "#print(LP)\n",
        "\n",
        "IG_List =[]\n",
        "thr =[]\n",
        "for i in range(10):\n",
        "\n",
        "\n",
        "  x1 = i+0.5\n",
        "  pos_g = 0\n",
        "  neg_g = 0\n",
        "  pos_l = 0\n",
        "  neg_l = 0\n",
        "  for i in range (P_X.shape[0]):\n",
        "    if ((P_X[i,0]>x1)):\n",
        "      pos_g +=1\n",
        "  for i in range(N_X.shape[0]):\n",
        "    if ((N_X[i,0]>x1)):\n",
        "      neg_g+=1 \n",
        "\n",
        "  for i in range (P_X.shape[0]):\n",
        "    if ((P_X[i,0]<x1)):\n",
        "      pos_l +=1\n",
        "  for i in range(N_X.shape[0]):\n",
        "    if ((N_X[i,0]<x1)):\n",
        "      neg_l+=1 \n",
        "\n",
        "  #print(pos_g,neg_g)\n",
        "  #print(pos_l,neg_l)\n",
        "\n",
        "  PplusN = pos_g+neg_g+pos_l+neg_l\n",
        "\n",
        "\n",
        "  IG = E_root - ( (pos_g+neg_g)/(PplusN) * H(pos_g,neg_g) + (pos_l+neg_l)/(PplusN) * H(pos_l,neg_l))\n",
        "  #print(IG)\n",
        "  IG_List.append(IG)\n",
        "  thr.append(x1)\n",
        "\n",
        "index = IG_List.index(max(IG_List))\n",
        "print(index)\n",
        "print(thr[index])\n",
        "\n",
        "y = np.linspace(0,10,20)\n",
        "x = thr[index] * np.ones(20)\n",
        "plt.plot(x,y)"
      ]
    },
    {
      "cell_type": "code",
      "source": [
        "from sklearn.tree import DecisionTreeClassifier\n",
        "\n",
        "# Instantiate dt_entropy, set 'entropy' as the information criterion\n",
        "dt_entropy = DecisionTreeClassifier(max_depth=8, criterion='entropy', random_state=1)\n",
        "\n",
        "# Fit dt_entropy to the training set\n",
        "y =  np.expand_dims(y, axis=1)\n",
        "dt_entropy.fit(X, Y)\n",
        "\n",
        "\n",
        "from mlxtend.plotting import plot_decision_regions\n",
        " \n",
        "\n",
        " \n",
        "fig, ax = plt.subplots(figsize=(4, 4))\n",
        "plot_decision_regions(X, Y, clf=dt_entropy)\n",
        "\n",
        "plt.tight_layout()\n",
        "plt.show()\n"
      ],
      "metadata": {
        "colab": {
          "base_uri": "https://localhost:8080/",
          "height": 352
        },
        "id": "BPEWlkpPN3lG",
        "outputId": "282bff18-bfce-4fd6-9e7b-f5a1e9fded4f"
      },
      "execution_count": 21,
      "outputs": [
        {
          "output_type": "stream",
          "name": "stderr",
          "text": [
            "/usr/local/lib/python3.7/dist-packages/mlxtend/plotting/decision_regions.py:244: MatplotlibDeprecationWarning: Passing unsupported keyword arguments to axis() will raise a TypeError in 3.3.\n",
            "  ax.axis(xmin=xx.min(), xmax=xx.max(), y_min=yy.min(), y_max=yy.max())\n"
          ]
        },
        {
          "output_type": "display_data",
          "data": {
            "text/plain": [
              "<Figure size 288x288 with 1 Axes>"
            ],
            "image/png": "[encoded data removed]"
          },
          "metadata": {
            "needs_background": "light"
          }
        }
      ]
    }
  ]
}